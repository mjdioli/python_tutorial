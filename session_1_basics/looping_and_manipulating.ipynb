{
 "metadata": {
  "language_info": {
   "codemirror_mode": {
    "name": "ipython",
    "version": 3
   },
   "file_extension": ".py",
   "mimetype": "text/x-python",
   "name": "python",
   "nbconvert_exporter": "python",
   "pygments_lexer": "ipython3",
   "version": 3
  },
  "orig_nbformat": 2
 },
 "nbformat": 4,
 "nbformat_minor": 2,
 "cells": [
  {
   "cell_type": "code",
   "execution_count": null,
   "metadata": {},
   "outputs": [],
   "source": [
    "\"\"\"Now let us explore one of the most important and versatile programming features: the loop\n",
    "A loop takes some list-like data structure, and \"steps through\" it. \n",
    "At each step you can take an arbitrary number of actions.\n",
    "The loop terminates when it reaches some condition.\n",
    "\"\"\"\n",
    "\n",
    "#The simplest loop is the while loop. It checks a condition for truth and loops over\n",
    "# until that condition is no longer true.\n",
    "\n",
    "#This loop will loop forever if not for the break condition which breaks you out of the loop.\n",
    "while True:\n",
    "    print(\"Stuck in an infinite loop\")\n",
    "    break\n",
    "\n",
    "counter = 0\n",
    "while counter < 10:\n",
    "    counter+=1\n",
    "\n",
    "print(\"DONE!\")\n"
   ]
  },
  {
   "cell_type": "code",
   "execution_count": null,
   "metadata": {},
   "outputs": [],
   "source": [
    "#While loops can be dangerous because bugs can lead to infinite loops.\n",
    "# A more common and better looping option is the for loop.\n",
    "# It explicitly loops over some object.\n",
    "\n",
    "my_list = [1,2,3]\n",
    "\n",
    "for number in my_list:\n",
    "    print(number)\n",
    "\n",
    "#We can use range to create a list like object\n",
    "\n",
    "for i in range(5):\n",
    "    print(i)\n",
    "\n",
    "#If we want both the item and the index it is at\n",
    "\n",
    "\n",
    "#Nested loops"
   ]
  },
  {
   "cell_type": "code",
   "execution_count": null,
   "metadata": {},
   "outputs": [],
   "source": [
    "#Dictionaries\n"
   ]
  },
  {
   "cell_type": "code",
   "execution_count": null,
   "metadata": {},
   "outputs": [],
   "source": [
    "\n",
    "#Dataframes\n",
    "\n",
    "\n",
    "#.apply in dataframes\n",
    "\n",
    "\n",
    "#.groupby \n",
    "\n",
    "\n",
    "#merging Dataframes"
   ]
  },
  {
   "cell_type": "code",
   "execution_count": null,
   "metadata": {},
   "outputs": [],
   "source": []
  }
 ]
}