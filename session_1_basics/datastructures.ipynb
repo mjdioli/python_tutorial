{
 "cells": [
  {
   "cell_type": "code",
   "execution_count": null,
   "metadata": {},
   "outputs": [],
   "source": [
    "\"\"\"Now let us explore one of the most important and versatile programming features: the loop\n",
    "A loop takes some list-like data structure, and \"steps through\" it. \n",
    "At each step you can take an arbitrary number of actions.\n",
    "The loop terminates when it reaches some condition.\n",
    "\"\"\""
   ]
  },
  {
   "cell_type": "code",
   "execution_count": null,
   "metadata": {},
   "outputs": [],
   "source": [
    "#The simplest loop is the while loop. It checks a condition for truth and loops over\n",
    "# until that condition is no longer true.\n",
    "\n",
    "#This loop will loop forever if not for the break condition which breaks you out of the loop.\n",
    "while True:\n",
    "    print(\"Stuck in an infinite loop\")\n",
    "    break\n",
    "\n",
    "counter = 0\n",
    "while counter < 10:\n",
    "    counter+=1\n",
    "\n",
    "print(\"DONE!\")"
   ]
  },
  {
   "cell_type": "code",
   "execution_count": null,
   "metadata": {},
   "outputs": [],
   "source": [
    "#While loops can be dangerous because bugs can lead to infinite loops.\n",
    "# A more common and better looping option is the for loop.\n",
    "# It explicitly loops over some object.\n",
    "\n",
    "my_list = [1,2,3]\n",
    "\n",
    "for number in my_list:\n",
    "    print(number)"
   ]
  },
  {
   "cell_type": "code",
   "execution_count": null,
   "metadata": {},
   "outputs": [],
   "source": [
    "#We can use range to create a list like object\n",
    "\n",
    "for i in range(5):\n",
    "    print(i)"
   ]
  },
  {
   "cell_type": "code",
   "execution_count": null,
   "metadata": {},
   "outputs": [],
   "source": [
    "#If we want both the item and its index we wrap it in an enumerate\n",
    "my_list = [1,2,3]\n",
    "for index, element in enumerate(my_list):\n",
    "    print(\"Index: \", i, \"Element: \", element)"
   ]
  },
  {
   "cell_type": "code",
   "execution_count": null,
   "metadata": {},
   "outputs": [],
   "source": [
    "#You can nest as many loops as you want, but beware, they are very slow\n",
    "for i in range(5):\n",
    "    for j in range(5):\n",
    "        print(i,j)"
   ]
  },
  {
   "cell_type": "code",
   "execution_count": null,
   "metadata": {},
   "outputs": [],
   "source": [
    "#A faster way to leverage loops is by using comprehensions\n",
    "#Let's say you want to generate a list of increasing numbers\n",
    "\n",
    "#You could use a for loop:\n",
    "my_list = []\n",
    "for i in range(5):\n",
    "    my_list.append(i)\n",
    "print(my_list)\n",
    "#However a much faster way that leverages some optimizations is to use a list comprehension.\n",
    "my_list = [i for i in range(5)]\n",
    "print(my_list)"
   ]
  },
  {
   "cell_type": "code",
   "execution_count": null,
   "metadata": {},
   "outputs": [],
   "source": [
    "#What if you want to check a condition like only every even number should be added?\n",
    "my_list = []\n",
    "for i in range(5):\n",
    "    if i%2==0:\n",
    "        my_list.append(i)\n",
    "\n",
    "#However a much faster way that leverages some optimizations is to use a list comprehension.\n",
    "my_list = [i for i in range(5) if i%2==0]\n",
    "print(my_list)"
   ]
  },
  {
   "cell_type": "code",
   "execution_count": null,
   "metadata": {},
   "outputs": [],
   "source": [
    "#Beware, the comprehension syntax changes if you want an if/else statement\n",
    "my_list = [i if i%2==0 else 0 for i in range(5) ]\n",
    "print(my_list)"
   ]
  },
  {
   "cell_type": "code",
   "execution_count": null,
   "metadata": {},
   "outputs": [],
   "source": [
    "#Dictionaries are perhaps the most useful data structure in python. \n",
    "#You store a value with a key, and then use the same key to retrieve it.\n",
    "#Let's say that you want to count the occurrences of something in a datastructure\n",
    "my_dict = {}\n",
    "my_list = [\"a\", \"a\", \"b\", \"c\", \"x\", \"a\", \"x\"]\n",
    "for element in my_list:\n",
    "    #This checks if the key exists in the dictionary\n",
    "    if element in my_dict:\n",
    "        my_dict[element] += 1\n",
    "        \n",
    "    else:\n",
    "        my_dict[element] = 1\n",
    "print(my_dict)"
   ]
  },
  {
   "cell_type": "code",
   "execution_count": null,
   "metadata": {},
   "outputs": [],
   "source": [
    "#Let us now look at dataframes\n",
    "#Generating data\n",
    "import numpy as np\n",
    "a, b, c = np.random.randint(100, size = 100),np.random.randint(100, size = 100),np.random.randint(100, size = 100)\n",
    "import pandas as pd\n",
    "data = pd.DataFrame({\"a\":a, \"b\": b,\"c\":c}, columns=[\"a\", \"b\", \"c\"])\n",
    "print(data.head())"
   ]
  },
  {
   "cell_type": "code",
   "execution_count": null,
   "metadata": {},
   "outputs": [],
   "source": [
    "#Items in a dataframe can be accessed with column names and indexes\n",
    "print(\"First item: \", data[\"a\"][0], data.iloc[0,0])\n"
   ]
  },
  {
   "cell_type": "code",
   "execution_count": null,
   "metadata": {},
   "outputs": [],
   "source": [
    "#Let us perform various filtering and manipulation on this dataframe\n",
    "#Selecting only the rows with an even number in a\n",
    "print(data[data[\"a\"]%2 ==0].head())"
   ]
  },
  {
   "cell_type": "code",
   "execution_count": null,
   "metadata": {},
   "outputs": [],
   "source": [
    "#Selecting only the rows with an even number in a and with values in b over 25\n",
    "print(data[(data[\"a\"]%2 ==0) & (data[\"b\"]>25)].head())"
   ]
  },
  {
   "cell_type": "code",
   "execution_count": null,
   "metadata": {},
   "outputs": [],
   "source": [
    "#Selecting only the rows with an even number in a or  with values in c under 30\n",
    "print(data[(data[\"a\"]%2 ==0) | (data[\"c\"]<30)].head())"
   ]
  },
  {
   "cell_type": "code",
   "execution_count": null,
   "metadata": {},
   "outputs": [],
   "source": [
    "#You can loop over a pandas dataframes in many ways\n",
    "#The simplest way is to loop over indexes\n",
    "for i in range(len(data)):\n",
    "    if i %25==0:\n",
    "        print(\"a = \",data.iloc[i,0], \"b = \",data.iloc[i,1], \"c = \",data.iloc[i,2])"
   ]
  },
  {
   "cell_type": "code",
   "execution_count": null,
   "metadata": {},
   "outputs": [],
   "source": [
    "#The best way is to use pandas' .iterrows() function\n",
    "# This is because this method leverages optimised C code under the hood to go super fast\n",
    "for index, row in data.iterrows():\n",
    "    if index %25==0:\n",
    "        print(\"a = \",row[\"a\"], \"b = \",row[\"b\"], \"c = \",row[\"c\"])"
   ]
  },
  {
   "cell_type": "code",
   "execution_count": null,
   "metadata": {},
   "outputs": [],
   "source": [
    "#You can also perform operations in the loop and modify the dataframe. Beware not to modify things\n",
    "# further ahead in the loop. If you want to do this create a copy of the dataframe with the .copy()\n",
    "# method and modify that instead.\n",
    "\n",
    "#Let us make all values in a greater than 25 equal to 25\n",
    "for index, row in data.iterrows():\n",
    "    if row[\"a\"] >25:\n",
    "        data[\"a\"][index] = 25\n",
    "print(data.head())"
   ]
  },
  {
   "cell_type": "code",
   "execution_count": null,
   "metadata": {},
   "outputs": [],
   "source": [
    "#Now let us look at one of the most powerful ways of looping and performing an action: .apply()\n",
    "#Say we want to perform the same operation above on column b.\n",
    "\n",
    "data[\"b\"] = data[\"b\"].apply(lambda x: 25 if x>25 else x)\n",
    "print(data.head())"
   ]
  },
  {
   "cell_type": "code",
   "execution_count": null,
   "metadata": {},
   "outputs": [],
   "source": [
    "#.apply is lightning fast. By far the best way for looping over a dataframe\n",
    "# You can even pass custom functions.\n",
    "# Let us say you want to flip the sign of a number\n",
    "\n",
    "def flipper(number):\n",
    "    return -number\n",
    "\n",
    "#Let us apply this to column c\n",
    "\n",
    "data[\"c\"] = data[\"c\"].apply(lambda x: flipper(x))\n",
    "print(data.head())"
   ]
  },
  {
   "cell_type": "code",
   "execution_count": null,
   "metadata": {},
   "outputs": [],
   "source": [
    "#Merging"
   ]
  },
  {
   "cell_type": "code",
   "execution_count": null,
   "metadata": {},
   "outputs": [],
   "source": [
    "#Groupby"
   ]
  }
 ],
 "metadata": {
  "interpreter": {
   "hash": "767d51c1340bd893661ea55ea3124f6de3c7a262a8b4abca0554b478b1e2ff90"
  },
  "kernelspec": {
   "display_name": "Python 3.9.5 64-bit",
   "name": "python3"
  },
  "language_info": {
   "name": "python",
   "version": ""
  },
  "orig_nbformat": 4
 },
 "nbformat": 4,
 "nbformat_minor": 2
}