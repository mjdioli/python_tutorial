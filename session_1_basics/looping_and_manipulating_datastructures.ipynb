"""Now let us explore one of the most important and versatile programming features: the loop
A loop takes some list-like data structure, and "steps through" it. 
At each step you can take an arbitrary number of actions.
The loop terminates when it reaches some condition.
"""

#The simplest loop is the while loop. It checks a condition for truth and loops over
# until that condition is no longer true.

#This loop will loop forever if not for the break condition which breaks you out of the loop.
while True:
    print("Stuck in an infinite loop")
    break

counter = 0
while counter < 10:
    counter+=1

print("DONE!")

#While loops can be dangerous because bugs can lead to infinite loops.
# A more common and better looping option is the for loop.
# It explicitly loops over some object.

my_list = [1,2,3]

for number in my_list:
    print(number)

#We can use range to create a list like object

for i in range(5):
    print(i)

#If we want both the item 


#Nested loops


#Dictionaries


#Dataframes


#.apply in dataframes


#.groupby 


#merging Dataframes



